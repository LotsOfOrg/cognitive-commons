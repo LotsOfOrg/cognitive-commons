{
 "cells": [
  {
   "cell_type": "markdown",
   "metadata": {},
   "source": [
    "# Data Management\n",
    "> Core functionality for data ingestion, hashing, and quality checking.\n",
    "\n",
    "This module handles:\n",
    "- Data ingestion and storage\n",
    "- Content hashing and ID generation\n",
    "- Basic quality checks\n",
    "- Content provenance tracking\n"
   ]
  },
  {
   "cell_type": "code",
   "execution_count": null,
   "metadata": {},
   "outputs": [],
   "source": [
    "#| default_exp data\n",
    "#| export\n",
    "from fastcore.basics import *\n",
    "from fastcore.test import *\n",
    "import hashlib\n",
    "from pathlib import Path\n",
    "from typing import Dict, List, Optional, Tuple\n",
    "import json\n",
    "import numpy as np\n",
    "from datetime import datetime\n"
   ]
  },
  {
   "cell_type": "code",
   "execution_count": null,
   "metadata": {},
   "outputs": [],
   "source": [
    "#| export\n",
    "class ContentStore:\n",
    "    \"\"\"Manages storage and retrieval of training data content\"\"\"\n",
    "    def __init__(self, store_path: Path):\n",
    "        self.store_path = Path(store_path)\n",
    "        self.store_path.mkdir(exist_ok=True)\n",
    "        self.index_file = self.store_path/'index.json'\n",
    "        self._load_index()\n",
    "    \n",
    "    def _load_index(self):\n",
    "        \"\"\"Load or initialize the content index\"\"\"\n",
    "        if self.index_file.exists():\n",
    "            self.index = json.loads(self.index_file.read_text())\n",
    "        else:\n",
    "            self.index = {}\n",
    "            self._save_index()\n",
    "    \n",
    "    def _save_index(self):\n",
    "        \"\"\"Save the current index to disk\"\"\"\n",
    "        self.index_file.write_text(json.dumps(self.index, indent=2))\n",
    "    \n",
    "    def add_content(self, content: str, contributor_id: str) -> str:\n",
    "        \"\"\"\n",
    "        Add new content to the store\n",
    "        Returns: content_id (hash)\n",
    "        \"\"\"\n",
    "        content_id = hashlib.sha256(content.encode()).hexdigest()\n",
    "        if content_id in self.index:\n",
    "            return content_id\n",
    "        \n",
    "        timestamp = datetime.now().isoformat()\n",
    "        self.index[content_id] = {\n",
    "            'contributor_id': contributor_id,\n",
    "            'timestamp': timestamp,\n",
    "            'size': len(content)\n",
    "        }\n",
    "        \n",
    "        (self.store_path/content_id).write_text(content)\n",
    "        self._save_index()\n",
    "        return content_id\n",
    "    \n",
    "    def get_content(self, content_id: str) -> Optional[str]:\n",
    "        \"\"\"Retrieve content by ID\"\"\"\n",
    "        if content_id not in self.index:\n",
    "            return None\n",
    "        return (self.store_path/content_id).read_text()\n"
   ]
  },
  {
   "cell_type": "code",
   "execution_count": null,
   "metadata": {},
   "outputs": [],
   "source": [
    "#| hide\n",
    "from nbdev.showdoc import *"
   ]
  },
  {
   "cell_type": "code",
   "execution_count": null,
   "metadata": {},
   "outputs": [],
   "source": [
    "#| test\n",
    "@patch\n",
    "def cleanup(self:ContentStore):\n",
    "    \"Remove all files in the store\"\n",
    "    if self.store_path.exists():\n",
    "        for f in self.store_path.glob('*'):\n",
    "            f.unlink()\n",
    "        self.store_path.rmdir()\n",
    "\n",
    "def test_content_store():\n",
    "    # Setup\n",
    "    store = ContentStore(Path('test_store'))\n",
    "    \n",
    "    # Test adding content\n",
    "    content = \"This is a test piece of content\"\n",
    "    contributor = \"test_user_1\"\n",
    "    content_id = store.add_content(content, contributor)\n",
    "    \n",
    "    # Test content exists and can be retrieved\n",
    "    test_eq(store.get_content(content_id), content)\n",
    "    \n",
    "    # Test index contains correct metadata\n",
    "    assert content_id in store.index\n",
    "    assert store.index[content_id]['contributor_id'] == contributor\n",
    "    assert store.index[content_id]['size'] == len(content)\n",
    "    \n",
    "    # Test duplicate content returns same ID\n",
    "    duplicate_id = store.add_content(content, \"test_user_2\")\n",
    "    test_eq(duplicate_id, content_id)\n",
    "    \n",
    "    # Test nonexistent content returns None\n",
    "    test_eq(store.get_content(\"nonexistent\"), None)\n",
    "    \n",
    "    # Cleanup\n",
    "    store.cleanup()"
   ]
  },
  {
   "cell_type": "code",
   "execution_count": null,
   "metadata": {},
   "outputs": [
    {
     "name": "stdout",
     "output_type": "stream",
     "text": [
      "Adding content from different contributors:\n",
      "Content 1 ID: ef537f25... (from alice)\n",
      "Stored metadata: {'contributor_id': 'alice', 'timestamp': '2025-02-16T21:17:13.047794', 'size': 44}\n",
      "\n",
      "Content 2 ID: 7f30cb1f... (from bob)\n",
      "\n",
      "Retrieving content:\n",
      "Retrieved content 1: 'The quick brown fox jumps over the lazy dog.'\n",
      "\n",
      "Testing deduplication:\n",
      "Original ID    : ef537f25...\n",
      "Duplicate ID   : ef537f25...\n",
      "IDs match      : True\n"
     ]
    }
   ],
   "source": [
    "#| example\n",
    "store = ContentStore(Path('example_store'))\n",
    "\n",
    "# Adding new content\n",
    "print(\"Adding content from different contributors:\")\n",
    "content1 = \"The quick brown fox jumps over the lazy dog.\"\n",
    "content2 = \"Another piece of training data for our model.\"\n",
    "\n",
    "id1 = store.add_content(content1, \"alice\")\n",
    "print(f\"Content 1 ID: {id1[:8]}... (from alice)\")\n",
    "print(f\"Stored metadata: {store.index[id1]}\")\n",
    "\n",
    "id2 = store.add_content(content2, \"bob\")\n",
    "print(f\"\\nContent 2 ID: {id2[:8]}... (from bob)\")\n",
    "\n",
    "# Retrieving content\n",
    "print(\"\\nRetrieving content:\")\n",
    "retrieved = store.get_content(id1)\n",
    "print(f\"Retrieved content 1: '{retrieved}'\")\n",
    "\n",
    "# Demonstrating deduplication\n",
    "print(\"\\nTesting deduplication:\")\n",
    "duplicate_id = store.add_content(content1, \"charlie\")\n",
    "print(f\"Original ID    : {id1[:8]}...\")\n",
    "print(f\"Duplicate ID   : {duplicate_id[:8]}...\")\n",
    "print(f\"IDs match      : {id1 == duplicate_id}\")\n",
    "\n",
    "# Cleanup\n",
    "store.cleanup()"
   ]
  },
  {
   "cell_type": "code",
   "execution_count": null,
   "metadata": {},
   "outputs": [],
   "source": [
    "#| hide\n",
    "import nbdev; nbdev.nbdev_export()"
   ]
  }
 ],
 "metadata": {
  "kernelspec": {
   "display_name": "python3",
   "language": "python",
   "name": "python3"
  }
 },
 "nbformat": 4,
 "nbformat_minor": 4
}
